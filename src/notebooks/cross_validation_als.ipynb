{
 "cells": [
  {
   "cell_type": "code",
   "execution_count": 1,
   "metadata": {},
   "outputs": [],
   "source": [
    "import matplotlib.pyplot as plt\n",
    "import numpy as np\n",
    "import pickle\n",
    "\n",
    "from helpers import load_data\n",
    "from cross_validation import cross_validation_step_als\n",
    "\n",
    "%matplotlib inline\n",
    "%load_ext autoreload\n",
    "%autoreload 2"
   ]
  },
  {
   "cell_type": "code",
   "execution_count": null,
   "metadata": {},
   "outputs": [],
   "source": [
    "path_dataset = \"../data/data_train.csv\"\n",
    "ratings = load_data(path_dataset)"
   ]
  },
  {
   "cell_type": "markdown",
   "metadata": {},
   "source": [
    "## Tuning of the ALS model"
   ]
  },
  {
   "cell_type": "markdown",
   "metadata": {},
   "source": [
    "### Tuning of $\\lambda_{item}$"
   ]
  },
  {
   "cell_type": "code",
   "execution_count": null,
   "metadata": {},
   "outputs": [],
   "source": [
    "lambdas = [0.3, 0.35, 1.1, 0.5, 1, 1.4, 0.01, 0.025, 0.425, 1.2, 0.55, 0.8, 0.65, 0.9, 0.4, 0.675, \n",
    "           0.6, 0.625, 0.05, 0.475, 1.5, 0.575, 0.15, 0.1, 0.525, 1.3, 0.7, 0.075, 0.45, 0.2]"
   ]
  },
  {
   "cell_type": "code",
   "execution_count": null,
   "metadata": {},
   "outputs": [],
   "source": [
    "tr_e_item = []\n",
    "te_e_item = []"
   ]
  },
  {
   "cell_type": "code",
   "execution_count": null,
   "metadata": {
    "scrolled": false
   },
   "outputs": [],
   "source": [
    "for i, lambda_ in enumerate(lambdas):\n",
    "    print('===========')\n",
    "    print('Lambda {}/{}'.format(i+1, len(lambdas)))\n",
    "    \n",
    "    tr, te = cross_validation_step_als(ratings, k_fold=3, num_features=25, \n",
    "                                       lambda_user=0.014, lambda_item=lambda_, verbose=False)\n",
    "    tr_e_item.append(tr)\n",
    "    te_e_item.append(te)\n",
    "    \n",
    "    print('___________')\n",
    "    print(tr_e_item[-1], te_e_item[-1])"
   ]
  },
  {
   "cell_type": "code",
   "execution_count": null,
   "metadata": {},
   "outputs": [],
   "source": [
    "\"\"\"d_item = {}\n",
    "\n",
    "for i in range(len(lambdas)):\n",
    "    d_item[(lambdas[i])] = [tr_e_item[i], te_e_item[i]]\n",
    "    \n",
    "with open(b'../data/pickle/cross_validation/test_item_als_cross.pickle' , 'wb') as file:\n",
    "    pickle.dump(d_item, file)\"\"\""
   ]
  },
  {
   "cell_type": "code",
   "execution_count": 2,
   "metadata": {},
   "outputs": [],
   "source": [
    "with open('../data/pickle/cross_validation/test_item_als_cross.pickle', 'rb') as file:\n",
    "    d_item = pickle.load(file)"
   ]
  },
  {
   "cell_type": "code",
   "execution_count": 3,
   "metadata": {},
   "outputs": [],
   "source": [
    "lambdas = []\n",
    "tr_e_item = []\n",
    "te_e_item = []\n",
    "for l in d_item.keys():\n",
    "    lambdas.append(l)\n",
    "    tr_e_item.append(d_item[l][0])\n",
    "    te_e_item.append(d_item[l][1])\n",
    "\n",
    "lambdas, te_e_item, tr_e_item = zip(*sorted(zip(lambdas, te_e_item, tr_e_item)))"
   ]
  },
  {
   "cell_type": "code",
   "execution_count": 4,
   "metadata": {},
   "outputs": [
    {
     "data": {
      "text/plain": [
       "0.575"
      ]
     },
     "execution_count": 4,
     "metadata": {},
     "output_type": "execute_result"
    }
   ],
   "source": [
    "best_lambda_item = lambdas[np.argmin(te_e_item)]\n",
    "best_lambda_item"
   ]
  },
  {
   "cell_type": "code",
   "execution_count": 5,
   "metadata": {
    "scrolled": true
   },
   "outputs": [
    {
     "data": {
      "image/png": "[encoded data removed]",
      "text/plain": [
       "<matplotlib.figure.Figure at 0x7f468e1f04a8>"
      ]
     },
     "metadata": {},
     "output_type": "display_data"
    }
   ],
   "source": [
    "plt.plot(lambdas, tr_e_item, marker=\".\", color='b', label='Train accuracy')\n",
    "plt.plot(lambdas, te_e_item, marker=\".\", color='r', label='Test accuracy')\n",
    "plt.show()"
   ]
  },
  {
   "cell_type": "markdown",
   "metadata": {},
   "source": [
    "### Tuning of $\\lambda_{user}$"
   ]
  },
  {
   "cell_type": "code",
   "execution_count": null,
   "metadata": {},
   "outputs": [],
   "source": [
    "lambdas = [0.001, 0.0025, 0.005, 0.0075, 0.01, 0.012, 0.013, 0.014, 0.015, 0.016, 0.0175, 0.02, 0.025, 0.03, 0.04, 0.05]"
   ]
  },
  {
   "cell_type": "code",
   "execution_count": null,
   "metadata": {},
   "outputs": [],
   "source": [
    "tr_e_user = []\n",
    "te_e_user = []"
   ]
  },
  {
   "cell_type": "code",
   "execution_count": null,
   "metadata": {},
   "outputs": [],
   "source": [
    "for i, lambda_ in enumerate(lambdas):\n",
    "    print('===========')\n",
    "    print('Lambda {}/{}'.format(i+1, len(lambdas)))\n",
    "    \n",
    "    tr, te = cross_validation_step_als(ratings, k_fold=3, num_features=25, \n",
    "                                       lambda_user=lambda_, lambda_item=0.575, verbose=False)\n",
    "    tr_e_item.append(tr)\n",
    "    te_e_item.append(te)\n",
    "    \n",
    "    print('___________')\n",
    "    print(tr_e_user[-1], te_e_user[-1])"
   ]
  },
  {
   "cell_type": "code",
   "execution_count": null,
   "metadata": {},
   "outputs": [],
   "source": [
    "\"\"\"d_user = {}\n",
    "\n",
    "for i in range(len(lambdas)):\n",
    "    d_user[(lambdas[i])] = [tr_e_user[i], te_e_user[i]]\n",
    "    \n",
    "with open(b'../data/pickle/cross_validation/test_user_als_cross.pickle' , 'wb') as file:\n",
    "    pickle.dump(d_user, file)\"\"\""
   ]
  },
  {
   "cell_type": "code",
   "execution_count": 6,
   "metadata": {},
   "outputs": [],
   "source": [
    "with open('../data/pickle/cross_validation/test_user_als_cross.pickle', 'rb') as file:\n",
    "    d_user = pickle.load(file)"
   ]
  },
  {
   "cell_type": "code",
   "execution_count": 7,
   "metadata": {},
   "outputs": [],
   "source": [
    "lambdas = []\n",
    "tr_e_user = []\n",
    "te_e_user = []\n",
    "for l in d_user.keys():\n",
    "    lambdas.append(l)\n",
    "    tr_e_user.append(d_user[l][0])\n",
    "    te_e_user.append(d_user[l][1])\n",
    "\n",
    "lambdas, te_e_user, tr_e_user = zip(*sorted(zip(lambdas, te_e_user, tr_e_user)))"
   ]
  },
  {
   "cell_type": "code",
   "execution_count": 8,
   "metadata": {},
   "outputs": [
    {
     "data": {
      "text/plain": [
       "0.014"
      ]
     },
     "execution_count": 8,
     "metadata": {},
     "output_type": "execute_result"
    }
   ],
   "source": [
    "best_lambda_user = lambdas[np.argmin(te_e_user)]\n",
    "best_lambda_user"
   ]
  },
  {
   "cell_type": "code",
   "execution_count": 9,
   "metadata": {
    "scrolled": true
   },
   "outputs": [
    {
     "data": {
      "image/png": "[encoded data removed]",
      "text/plain": [
       "<matplotlib.figure.Figure at 0x7f468c1ac1d0>"
      ]
     },
     "metadata": {},
     "output_type": "display_data"
    }
   ],
   "source": [
    "plt.plot(lambdas, tr_e_user, marker=\".\", color='b', label='Train accuracy')\n",
    "plt.plot(lambdas, te_e_user, marker=\".\", color='r', label='Test accuracy')\n",
    "plt.show()"
   ]
  }
 ],
 "metadata": {
  "kernelspec": {
   "display_name": "Python 3",
   "language": "python",
   "name": "python3"
  },
  "language_info": {
   "codemirror_mode": {
    "name": "ipython",
    "version": 3
   },
   "file_extension": ".py",
   "mimetype": "text/x-python",
   "name": "python",
   "nbconvert_exporter": "python",
   "pygments_lexer": "ipython3",
   "version": "3.5.3"
  }
 },
 "nbformat": 4,
 "nbformat_minor": 2
}
