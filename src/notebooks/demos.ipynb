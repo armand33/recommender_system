{
 "cells": [
  {
   "cell_type": "code",
   "execution_count": 1,
   "metadata": {},
   "outputs": [],
   "source": [
    "import matplotlib.pyplot as plt\n",
    "import pickle\n",
    "import time\n",
    "\n",
    "from helpers import load_data\n",
    "from utils import split_data\n",
    "\n",
    "from baselines import *\n",
    "from matrix_factorization import matrix_factorization_sgd, write_sgd_prediction, matrix_factorization_als, \\\n",
    "    write_als_prediction\n",
    "\n",
    "%matplotlib inline\n",
    "%load_ext autoreload\n",
    "%autoreload 2"
   ]
  },
  {
   "cell_type": "code",
   "execution_count": 2,
   "metadata": {},
   "outputs": [],
   "source": [
    "path_dataset = \"../data/data_train.csv\"\n",
    "ratings = load_data(path_dataset)"
   ]
  },
  {
   "cell_type": "code",
   "execution_count": 3,
   "metadata": {
    "scrolled": true
   },
   "outputs": [
    {
     "name": "stdout",
     "output_type": "stream",
     "text": [
      "Shape of original ratings : (10000, 1000)\n",
      "Shape of valid ratings (and of train and test data) : (9990, 999)\n",
      "Total number of nonzero elements in original data : 1176952\n",
      "Total number of nonzero elements in train data : 1068523\n",
      "Total number of nonzero elements in test data : 108350\n"
     ]
    }
   ],
   "source": [
    "_, train, test = split_data(ratings, 10, verbose=True)\n",
    "with open('../data/pickle/train.pickle', 'wb') as file:\n",
    "    pickle.dump(train, file)\n",
    "with open('../data/pickle/test.pickle', 'wb') as file:\n",
    "    pickle.dump(test, file)"
   ]
  },
  {
   "cell_type": "code",
   "execution_count": 3,
   "metadata": {},
   "outputs": [],
   "source": [
    "with open('../data/pickle/train.pickle', 'rb') as file:\n",
    "    train = pickle.load(file)\n",
    "with open('../data/pickle/test.pickle', 'rb') as file:\n",
    "    test = pickle.load(file)"
   ]
  },
  {
   "cell_type": "markdown",
   "metadata": {},
   "source": [
    "## Global Mean baseline"
   ]
  },
  {
   "cell_type": "markdown",
   "metadata": {},
   "source": [
    "#### Test of the global mean baseline using the split training set"
   ]
  },
  {
   "cell_type": "code",
   "execution_count": 5,
   "metadata": {},
   "outputs": [
    {
     "name": "stdout",
     "output_type": "stream",
     "text": [
      "--- 25.886598825454712 seconds ---\n",
      "Global mean RMSE : 1.1183506557779654\n"
     ]
    }
   ],
   "source": [
    "start_time = time.time()\n",
    "global_mean_rmse = global_mean_test(ratings, min_num_ratings=10)\n",
    "print(\"--- %s seconds ---\" % (time.time() - start_time))\n",
    "print('Global mean RMSE : {}'.format(global_mean_rmse))"
   ]
  },
  {
   "cell_type": "markdown",
   "metadata": {},
   "source": [
    "#### Output prediction to test on kaggle"
   ]
  },
  {
   "cell_type": "code",
   "execution_count": 6,
   "metadata": {},
   "outputs": [
    {
     "name": "stdout",
     "output_type": "stream",
     "text": [
      "--- 16.67897653579712 seconds ---\n"
     ]
    }
   ],
   "source": [
    "start_time = time.time()\n",
    "mean = global_mean(ratings)\n",
    "print(\"--- %s seconds ---\" % (time.time() - start_time))\n",
    "write_global_mean_prediction(mean)"
   ]
  },
  {
   "cell_type": "markdown",
   "metadata": {},
   "source": [
    "Score on kaggle for this baseline : 1.11785"
   ]
  },
  {
   "cell_type": "markdown",
   "metadata": {},
   "source": [
    "## User Mean baseline"
   ]
  },
  {
   "cell_type": "markdown",
   "metadata": {},
   "source": [
    "#### Test of the user mean baseline using the split training set"
   ]
  },
  {
   "cell_type": "code",
   "execution_count": 8,
   "metadata": {},
   "outputs": [
    {
     "name": "stdout",
     "output_type": "stream",
     "text": [
      "--- 286.12546944618225 seconds ---\n",
      "User mean RMSE : 1.0289888944873853\n"
     ]
    }
   ],
   "source": [
    "start_time = time.time()\n",
    "user_mean_rmse = user_mean_test(ratings, min_num_ratings=10)\n",
    "print(\"--- %s seconds ---\" % (time.time() - start_time))\n",
    "print('User mean RMSE : {}'.format(user_mean_rmse))"
   ]
  },
  {
   "cell_type": "markdown",
   "metadata": {},
   "source": [
    "#### Output prediction to test on kaggle"
   ]
  },
  {
   "cell_type": "code",
   "execution_count": 9,
   "metadata": {},
   "outputs": [
    {
     "name": "stdout",
     "output_type": "stream",
     "text": [
      "--- 110.12382626533508 seconds ---\n"
     ]
    }
   ],
   "source": [
    "start_time = time.time()\n",
    "means = compute_user_means(ratings)\n",
    "print(\"--- %s seconds ---\" % (time.time() - start_time))\n",
    "write_user_mean_prediction(means)"
   ]
  },
  {
   "cell_type": "markdown",
   "metadata": {},
   "source": [
    "Score on kaggle for this baseline : 1.02982"
   ]
  },
  {
   "cell_type": "markdown",
   "metadata": {},
   "source": [
    "## Item Mean baseline"
   ]
  },
  {
   "cell_type": "markdown",
   "metadata": {},
   "source": [
    "#### Test of the user mean baseline using the split training set"
   ]
  },
  {
   "cell_type": "code",
   "execution_count": 10,
   "metadata": {},
   "outputs": [
    {
     "name": "stdout",
     "output_type": "stream",
     "text": [
      "--- 33.12778425216675 seconds ---\n",
      "Item mean RMSE : 1.0938352842783858\n"
     ]
    }
   ],
   "source": [
    "start_time = time.time()\n",
    "item_mean_rmse = item_mean_test(ratings, min_num_ratings=10)\n",
    "print(\"--- %s seconds ---\" % (time.time() - start_time))\n",
    "print('Item mean RMSE : {}'.format(item_mean_rmse))"
   ]
  },
  {
   "cell_type": "markdown",
   "metadata": {},
   "source": [
    "#### Output prediction to test on kaggle"
   ]
  },
  {
   "cell_type": "code",
   "execution_count": 11,
   "metadata": {},
   "outputs": [
    {
     "name": "stdout",
     "output_type": "stream",
     "text": [
      "--- 24.0707004070282 seconds ---\n"
     ]
    }
   ],
   "source": [
    "start_time = time.time()\n",
    "means = compute_item_means(ratings)\n",
    "print(\"--- %s seconds ---\" % (time.time() - start_time))\n",
    "write_item_mean_prediction(means)"
   ]
  },
  {
   "cell_type": "markdown",
   "metadata": {},
   "source": [
    "Score on kaggle for this baseline : 1.09267"
   ]
  },
  {
   "cell_type": "markdown",
   "metadata": {},
   "source": [
    "## Matrix Factorization using SGD"
   ]
  },
  {
   "cell_type": "markdown",
   "metadata": {},
   "source": [
    "#### Test of the model"
   ]
  },
  {
   "cell_type": "code",
   "execution_count": 5,
   "metadata": {},
   "outputs": [
    {
     "name": "stdout",
     "output_type": "stream",
     "text": [
      "Learning the matrix factorization using SGD...\n",
      "Final RMSE on train data: 0.9912955138845942\n",
      "Final RMSE on test data: 1.0001463113122229.\n",
      "--- 1706.9034678936005 seconds ---\n"
     ]
    },
    {
     "data": {
      "text/plain": [
       "(0.99129551388459425, 1.0001463113122229)"
      ]
     },
     "execution_count": 5,
     "metadata": {},
     "output_type": "execute_result"
    }
   ],
   "source": [
    "start_time = time.time()\n",
    "train_rmse, test_rmse, _, _ = matrix_factorization_sgd(train, test, gamma=0.012, verbose=True, \n",
    "                                                       lambda_user=0.011, lambda_item=0.25,\n",
    "                                                       num_epochs=50)\n",
    "print(\"--- %s seconds ---\" % (time.time() - start_time))\n",
    "train_rmse, test_rmse"
   ]
  },
  {
   "cell_type": "markdown",
   "metadata": {},
   "source": [
    "#### Building a prediction"
   ]
  },
  {
   "cell_type": "code",
   "execution_count": 8,
   "metadata": {},
   "outputs": [
    {
     "name": "stdout",
     "output_type": "stream",
     "text": [
      "Learning the matrix factorization using SGD...\n",
      "--- 1662.4102020263672 seconds ---\n"
     ]
    }
   ],
   "source": [
    "start_time = time.time()\n",
    "_, user_features, item_features = matrix_factorization_sgd(ratings, None, gamma=0.012, verbose=True, \n",
    "                                                           lambda_user=0.011, lambda_item=0.25,\n",
    "                                                           num_epochs=50)\n",
    "print(\"--- %s seconds ---\" % (time.time() - start_time))\n",
    "write_sgd_prediction(user_features, item_features)"
   ]
  },
  {
   "cell_type": "markdown",
   "metadata": {},
   "source": [
    "Score on kaggle for this prediction method : 1.00032"
   ]
  },
  {
   "cell_type": "code",
   "execution_count": null,
   "metadata": {},
   "outputs": [],
   "source": [
    "with open(b'../data/pickle/blending/sgd_item_ratings.pickle', 'wb') as f:\n",
    "    pickle.dump(item_features_sgd, f)\n",
    "with open(b'../data/pickle/blending/sgd_user_ratings.pickle', 'wb') as f:\n",
    "    pickle.dump(user_features_sgd, f)"
   ]
  },
  {
   "cell_type": "markdown",
   "metadata": {},
   "source": [
    "## Matrix Factorization using Alternating Least Squares"
   ]
  },
  {
   "cell_type": "markdown",
   "metadata": {},
   "source": [
    "#### Test of the model"
   ]
  },
  {
   "cell_type": "code",
   "execution_count": 6,
   "metadata": {},
   "outputs": [
    {
     "name": "stdout",
     "output_type": "stream",
     "text": [
      "Learning the matrix factorization using ALS...\n",
      "Final RMSE on train data: 0.9050427076545173\n",
      "Final RMSE on test data: 0.983912165799094.\n",
      "--- 803.992819070816 seconds ---\n"
     ]
    },
    {
     "data": {
      "text/plain": [
       "(0.90504270765451733, 0.98391216579909402)"
      ]
     },
     "execution_count": 6,
     "metadata": {},
     "output_type": "execute_result"
    }
   ],
   "source": [
    "start_time = time.time()\n",
    "train_rmse, test_rmse, _, _ = matrix_factorization_als(train, test, verbose=True, stop_criterion=0.00001,\n",
    "                                                       lambda_user=0.014, lambda_item=0.575, num_features=20)\n",
    "print(\"--- %s seconds ---\" % (time.time() - start_time))\n",
    "train_rmse, test_rmse"
   ]
  },
  {
   "cell_type": "markdown",
   "metadata": {},
   "source": [
    "#### Building a prediction"
   ]
  },
  {
   "cell_type": "code",
   "execution_count": 10,
   "metadata": {},
   "outputs": [
    {
     "name": "stdout",
     "output_type": "stream",
     "text": [
      "Learning the matrix factorization using ALS...\n",
      "--- 939.8009564876556 seconds ---\n"
     ]
    }
   ],
   "source": [
    "start_time = time.time()\n",
    "_, user_features, item_features = matrix_factorization_als(ratings, None, verbose=True, stop_criterion=0.00001, \n",
    "                                                              lambda_user=0.014, lambda_item=0.575, num_features=20)\n",
    "print(\"--- %s seconds ---\" % (time.time() - start_time))\n",
    "write_als_prediction(user_features, item_features)"
   ]
  },
  {
   "cell_type": "markdown",
   "metadata": {},
   "source": [
    "Score on kaggle for this prediction method : 0.98194"
   ]
  },
  {
   "cell_type": "code",
   "execution_count": 11,
   "metadata": {},
   "outputs": [],
   "source": [
    "with open(b'../data/pickle/blending/als_item_ratings.pickle', 'wb') as f:\n",
    "    pickle.dump(item_features, f)\n",
    "with open(b'../data/pickle/blending/als_user_ratings.pickle', 'wb') as f:\n",
    "    pickle.dump(user_features, f)"
   ]
  }
 ],
 "metadata": {
  "kernelspec": {
   "display_name": "Python 3",
   "language": "python",
   "name": "python3"
  },
  "language_info": {
   "codemirror_mode": {
    "name": "ipython",
    "version": 3
   },
   "file_extension": ".py",
   "mimetype": "text/x-python",
   "name": "python",
   "nbconvert_exporter": "python",
   "pygments_lexer": "ipython3",
   "version": "3.5.3"
  }
 },
 "nbformat": 4,
 "nbformat_minor": 2
}
