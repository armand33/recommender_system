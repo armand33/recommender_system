{
 "cells": [
  {
   "cell_type": "code",
   "execution_count": 1,
   "metadata": {
    "collapsed": false
   },
   "outputs": [],
   "source": [
    "import matplotlib.pyplot as plt\n",
    "import scipy.sparse as sp\n",
    "import _pickle as pk\n",
    "\n",
    "from helpers import load_data\n",
    "from collaborativeFiltering import *\n",
    "\n",
    "%matplotlib inline\n",
    "%load_ext autoreload\n",
    "%autoreload 2"
   ]
  },
  {
   "cell_type": "code",
   "execution_count": 2,
   "metadata": {
    "collapsed": true
   },
   "outputs": [],
   "source": [
    "def save(obj, path):\n",
    "    print('Saving at path : {}'.format(path))\n",
    "    pk.dump(obj, open(path, 'wb'))\n",
    "    print('Done')\n",
    "    \n",
    "def load(path):\n",
    "    return pk.load(open(path, 'rb'))"
   ]
  },
  {
   "cell_type": "markdown",
   "metadata": {},
   "source": [
    "# Load models"
   ]
  },
  {
   "cell_type": "code",
   "execution_count": 3,
   "metadata": {
    "collapsed": true
   },
   "outputs": [],
   "source": [
    "model_users = load('model_users_full.pkl')\n",
    "#model_films = load('prediction_model_films_full.pkl')"
   ]
  },
  {
   "cell_type": "code",
   "execution_count": 3,
   "metadata": {
    "collapsed": false
   },
   "outputs": [],
   "source": [
    "model_films = load('model_films_full.pkl')\n",
    "del model_films['normRatings']\n",
    "del model_films['film_commonViewings']\n",
    "model_films['sorted_neighbors'] = load('sortedNeighbors.pkl')"
   ]
  },
  {
   "cell_type": "markdown",
   "metadata": {},
   "source": [
    "# Prediction"
   ]
  },
  {
   "cell_type": "code",
   "execution_count": 5,
   "metadata": {
    "collapsed": false
   },
   "outputs": [
    {
     "name": "stdout",
     "output_type": "stream",
     "text": [
      "k=10:\n",
      "User #1\n",
      "User #101\n",
      "User #201\n",
      "User #301\n",
      "User #401\n",
      "User #501\n",
      "User #601\n",
      "User #701\n",
      "User #801\n",
      "No (correlated) neighbors have seen the film\n",
      "User #901\n",
      "Train RMSE : \n",
      "0.985897586662\n"
     ]
    },
    {
     "data": {
      "text/plain": [
       "([0.98589758666174621], [])"
      ]
     },
     "execution_count": 5,
     "metadata": {},
     "output_type": "execute_result"
    }
   ],
   "source": [
    "k_list = [10]\n",
    "usersModel_predictionErrorsOverk(k_list, model_users)"
   ]
  },
  {
   "cell_type": "code",
   "execution_count": 6,
   "metadata": {
    "collapsed": false
   },
   "outputs": [
    {
     "name": "stdout",
     "output_type": "stream",
     "text": [
      "k=10:\n",
      "User #1\n",
      "User #101\n",
      "User #201\n",
      "User #301\n",
      "User #401\n",
      "User #501\n",
      "User #601\n",
      "User #701\n",
      "User #801\n",
      "User #901\n",
      "Train RMSE : \n",
      "0.833286335123\n"
     ]
    },
    {
     "data": {
      "text/plain": [
       "([0.83328633512341921], [])"
      ]
     },
     "execution_count": 6,
     "metadata": {},
     "output_type": "execute_result"
    }
   ],
   "source": [
    "k_list = [10]\n",
    "filmsModel_predictionErrorsOverk(k_list, model_films)"
   ]
  },
  {
   "cell_type": "markdown",
   "metadata": {},
   "source": [
    "# Create prediction output"
   ]
  },
  {
   "cell_type": "code",
   "execution_count": 4,
   "metadata": {
    "collapsed": false
   },
   "outputs": [],
   "source": [
    "test_path = '../data/sample_submission.csv'\n",
    "testSet = load_data(test_path)"
   ]
  },
  {
   "cell_type": "code",
   "execution_count": 9,
   "metadata": {
    "collapsed": false
   },
   "outputs": [],
   "source": [
    "create_prediction_file_usersModel('../data/users_CF_prediction.csv', testSet, model_users, k=10)"
   ]
  },
  {
   "cell_type": "code",
   "execution_count": 5,
   "metadata": {
    "collapsed": false
   },
   "outputs": [],
   "source": [
    "create_prediction_file_usersModel('../data/users_CF_prediction_inf.csv', testSet, model_users, k=1000)"
   ]
  },
  {
   "cell_type": "code",
   "execution_count": 6,
   "metadata": {
    "collapsed": false
   },
   "outputs": [],
   "source": [
    "create_prediction_file_filmsModel('../data/films_CF_prediction.csv', testSet, model_films, k=10)"
   ]
  },
  {
   "cell_type": "code",
   "execution_count": 7,
   "metadata": {
    "collapsed": false
   },
   "outputs": [],
   "source": [
    "create_prediction_file_filmsModel('../data/films_CF_prediction_20.csv', testSet, model_films, k=20)"
   ]
  },
  {
   "cell_type": "code",
   "execution_count": 5,
   "metadata": {
    "collapsed": false
   },
   "outputs": [],
   "source": [
    "create_prediction_file_filmsModel('../data/films_CF_prediction_inf.csv', testSet, model_films, k=10000)"
   ]
  },
  {
   "cell_type": "code",
   "execution_count": null,
   "metadata": {
    "collapsed": true
   },
   "outputs": [],
   "source": [
    "users_preds = load_data('../data/users_CF_prediction.csv')\n",
    "films_preds = load_data('../data/films_CF_prediction.csv')\n",
    "mean_preds = 0.5 * (users_preds + films_preds)\n",
    "sortTrainData('../data/CF_mean_prediction1.csv', mean_preds)"
   ]
  },
  {
   "cell_type": "code",
   "execution_count": null,
   "metadata": {
    "collapsed": true
   },
   "outputs": [],
   "source": [
    "users_preds = load_data('../data/users_CF_prediction.csv')\n",
    "films_preds = load_data('../data/films_CF_prediction_20.csv')\n",
    "mean_preds = 0.5 * (users_preds + films_preds)\n",
    "sortTrainData('../data/CF_mean_prediction2.csv', mean_preds)"
   ]
  },
  {
   "cell_type": "code",
   "execution_count": 4,
   "metadata": {
    "collapsed": true
   },
   "outputs": [],
   "source": [
    "train_path = '../data/data_train.csv'\n",
    "trainSet = load_data(train_path)"
   ]
  },
  {
   "cell_type": "code",
   "execution_count": 27,
   "metadata": {
    "collapsed": false
   },
   "outputs": [
    {
     "name": "stdout",
     "output_type": "stream",
     "text": [
      "No (correlated) neighbors have seen the film\n"
     ]
    }
   ],
   "source": [
    "create_prediction_file_usersModel('../data/users_CF_train.csv', trainSet, model_users, k=10)"
   ]
  },
  {
   "cell_type": "code",
   "execution_count": 8,
   "metadata": {
    "collapsed": false
   },
   "outputs": [
    {
     "name": "stdout",
     "output_type": "stream",
     "text": [
      "No (correlated) neighbors have seen the film\n"
     ]
    }
   ],
   "source": [
    "create_prediction_file_usersModel('../data/users_CF_train_inf.csv', trainSet, model_users, k=1000)"
   ]
  },
  {
   "cell_type": "code",
   "execution_count": 5,
   "metadata": {
    "collapsed": false
   },
   "outputs": [],
   "source": [
    "create_prediction_file_filmsModel('../data/films_CF_train_inf.csv', trainSet, model_films, k=10000)"
   ]
  },
  {
   "cell_type": "code",
   "execution_count": 33,
   "metadata": {
    "collapsed": false
   },
   "outputs": [],
   "source": [
    "sortTrainData('../data/sorted_train_data.csv', trainSet)"
   ]
  },
  {
   "cell_type": "code",
   "execution_count": null,
   "metadata": {
    "collapsed": true
   },
   "outputs": [],
   "source": []
  }
 ],
 "metadata": {
  "kernelspec": {
   "display_name": "Python 3",
   "language": "python",
   "name": "python3"
  },
  "language_info": {
   "codemirror_mode": {
    "name": "ipython",
    "version": 3
   },
   "file_extension": ".py",
   "mimetype": "text/x-python",
   "name": "python",
   "nbconvert_exporter": "python",
   "pygments_lexer": "ipython3",
   "version": "3.5.1"
  }
 },
 "nbformat": 4,
 "nbformat_minor": 0
}
